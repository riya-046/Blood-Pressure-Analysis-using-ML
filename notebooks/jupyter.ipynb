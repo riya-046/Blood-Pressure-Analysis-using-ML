{
 "cells": [
  {
   "cell_type": "code",
   "execution_count": 6,
   "id": "4a21a4fa-9454-4d27-840a-0ccdf2f7be1c",
   "metadata": {},
   "outputs": [],
   "source": [
    "import pandas as pd\n",
    "import numpy as np\n",
    "import matplotlib.pyplot as plt\n",
    "import seaborn as sns\n"
   ]
  },
  {
   "cell_type": "code",
   "execution_count": 7,
   "id": "5986a4db-3999-44e3-8796-f2b036aef3b1",
   "metadata": {},
   "outputs": [
    {
     "data": {
      "text/html": [
       "<div>\n",
       "<style scoped>\n",
       "    .dataframe tbody tr th:only-of-type {\n",
       "        vertical-align: middle;\n",
       "    }\n",
       "\n",
       "    .dataframe tbody tr th {\n",
       "        vertical-align: top;\n",
       "    }\n",
       "\n",
       "    .dataframe thead th {\n",
       "        text-align: right;\n",
       "    }\n",
       "</style>\n",
       "<table border=\"1\" class=\"dataframe\">\n",
       "  <thead>\n",
       "    <tr style=\"text-align: right;\">\n",
       "      <th></th>\n",
       "      <th>C</th>\n",
       "      <th>Age</th>\n",
       "      <th>History</th>\n",
       "      <th>Patient</th>\n",
       "      <th>TakeMedication</th>\n",
       "      <th>Severity</th>\n",
       "      <th>BreathShortness</th>\n",
       "      <th>VisualChanges</th>\n",
       "      <th>NoseBleeding</th>\n",
       "      <th>Whendiagnoused</th>\n",
       "      <th>Systolic</th>\n",
       "      <th>Diastolic</th>\n",
       "      <th>ControlledDiet</th>\n",
       "      <th>Stages</th>\n",
       "    </tr>\n",
       "  </thead>\n",
       "  <tbody>\n",
       "    <tr>\n",
       "      <th>0</th>\n",
       "      <td>Male</td>\n",
       "      <td>18-34</td>\n",
       "      <td>Yes</td>\n",
       "      <td>No</td>\n",
       "      <td>No</td>\n",
       "      <td>Mild</td>\n",
       "      <td>No</td>\n",
       "      <td>No</td>\n",
       "      <td>No</td>\n",
       "      <td>&lt;1 Year</td>\n",
       "      <td>111 - 120</td>\n",
       "      <td>81 - 90</td>\n",
       "      <td>No</td>\n",
       "      <td>HYPERTENSION (Stage-1)</td>\n",
       "    </tr>\n",
       "    <tr>\n",
       "      <th>1</th>\n",
       "      <td>Female</td>\n",
       "      <td>18-34</td>\n",
       "      <td>Yes</td>\n",
       "      <td>No</td>\n",
       "      <td>No</td>\n",
       "      <td>Mild</td>\n",
       "      <td>No</td>\n",
       "      <td>No</td>\n",
       "      <td>No</td>\n",
       "      <td>&lt;1 Year</td>\n",
       "      <td>111 - 120</td>\n",
       "      <td>81 - 90</td>\n",
       "      <td>No</td>\n",
       "      <td>HYPERTENSION (Stage-1)</td>\n",
       "    </tr>\n",
       "    <tr>\n",
       "      <th>2</th>\n",
       "      <td>Male</td>\n",
       "      <td>35-50</td>\n",
       "      <td>Yes</td>\n",
       "      <td>No</td>\n",
       "      <td>No</td>\n",
       "      <td>Mild</td>\n",
       "      <td>No</td>\n",
       "      <td>No</td>\n",
       "      <td>No</td>\n",
       "      <td>&lt;1 Year</td>\n",
       "      <td>111 - 120</td>\n",
       "      <td>81 - 90</td>\n",
       "      <td>No</td>\n",
       "      <td>HYPERTENSION (Stage-1)</td>\n",
       "    </tr>\n",
       "    <tr>\n",
       "      <th>3</th>\n",
       "      <td>Female</td>\n",
       "      <td>35-50</td>\n",
       "      <td>Yes</td>\n",
       "      <td>No</td>\n",
       "      <td>No</td>\n",
       "      <td>Mild</td>\n",
       "      <td>No</td>\n",
       "      <td>No</td>\n",
       "      <td>No</td>\n",
       "      <td>&lt;1 Year</td>\n",
       "      <td>111 - 120</td>\n",
       "      <td>81 - 90</td>\n",
       "      <td>No</td>\n",
       "      <td>HYPERTENSION (Stage-1)</td>\n",
       "    </tr>\n",
       "    <tr>\n",
       "      <th>4</th>\n",
       "      <td>Male</td>\n",
       "      <td>51-64</td>\n",
       "      <td>Yes</td>\n",
       "      <td>No</td>\n",
       "      <td>No</td>\n",
       "      <td>Mild</td>\n",
       "      <td>No</td>\n",
       "      <td>No</td>\n",
       "      <td>No</td>\n",
       "      <td>&lt;1 Year</td>\n",
       "      <td>111 - 120</td>\n",
       "      <td>81 - 90</td>\n",
       "      <td>No</td>\n",
       "      <td>HYPERTENSION (Stage-1)</td>\n",
       "    </tr>\n",
       "  </tbody>\n",
       "</table>\n",
       "</div>"
      ],
      "text/plain": [
       "        C    Age History Patient TakeMedication Severity BreathShortness  \\\n",
       "0    Male  18-34     Yes      No             No     Mild              No   \n",
       "1  Female  18-34     Yes      No             No     Mild              No   \n",
       "2    Male  35-50     Yes      No             No     Mild              No   \n",
       "3  Female  35-50     Yes      No             No     Mild              No   \n",
       "4    Male  51-64     Yes      No             No     Mild              No   \n",
       "\n",
       "  VisualChanges NoseBleeding Whendiagnoused   Systolic Diastolic  \\\n",
       "0            No          No         <1 Year  111 - 120   81 - 90   \n",
       "1            No          No         <1 Year  111 - 120   81 - 90   \n",
       "2            No          No         <1 Year  111 - 120   81 - 90   \n",
       "3            No          No         <1 Year  111 - 120   81 - 90   \n",
       "4            No          No         <1 Year  111 - 120   81 - 90   \n",
       "\n",
       "  ControlledDiet                  Stages  \n",
       "0             No  HYPERTENSION (Stage-1)  \n",
       "1             No  HYPERTENSION (Stage-1)  \n",
       "2             No  HYPERTENSION (Stage-1)  \n",
       "3             No  HYPERTENSION (Stage-1)  \n",
       "4             No  HYPERTENSION (Stage-1)  "
      ]
     },
     "execution_count": 7,
     "metadata": {},
     "output_type": "execute_result"
    }
   ],
   "source": [
    "# Since this notebook is inside notebooks/, go up one level to reach data/\n",
    "df = pd.read_csv(\"../data/patient_data.csv\")\n",
    "df.head()\n"
   ]
  },
  {
   "cell_type": "code",
   "execution_count": 8,
   "id": "5373aa30-d97b-4094-84aa-f0d7dfd3ffa8",
   "metadata": {},
   "outputs": [],
   "source": [
    "df.rename(columns={'C':'Gender'}, inplace=True)"
   ]
  },
  {
   "cell_type": "code",
   "execution_count": 9,
   "id": "9a330bc7-c1a6-4a24-81b8-0d4bc54c623f",
   "metadata": {},
   "outputs": [
    {
     "name": "stdout",
     "output_type": "stream",
     "text": [
      "<class 'pandas.core.frame.DataFrame'>\n",
      "RangeIndex: 1825 entries, 0 to 1824\n",
      "Data columns (total 14 columns):\n",
      " #   Column           Non-Null Count  Dtype \n",
      "---  ------           --------------  ----- \n",
      " 0   Gender           1825 non-null   object\n",
      " 1   Age              1825 non-null   object\n",
      " 2   History          1825 non-null   object\n",
      " 3   Patient          1825 non-null   object\n",
      " 4   TakeMedication   1825 non-null   object\n",
      " 5   Severity         1825 non-null   object\n",
      " 6   BreathShortness  1825 non-null   object\n",
      " 7   VisualChanges    1825 non-null   object\n",
      " 8   NoseBleeding     1825 non-null   object\n",
      " 9   Whendiagnoused   1825 non-null   object\n",
      " 10  Systolic         1825 non-null   object\n",
      " 11  Diastolic        1825 non-null   object\n",
      " 12  ControlledDiet   1825 non-null   object\n",
      " 13  Stages           1825 non-null   object\n",
      "dtypes: object(14)\n",
      "memory usage: 199.7+ KB\n"
     ]
    }
   ],
   "source": [
    "df.info()"
   ]
  },
  {
   "cell_type": "code",
   "execution_count": 10,
   "id": "c09e25e1-e038-4ca6-bda6-9be7e785d1b9",
   "metadata": {},
   "outputs": [
    {
     "data": {
      "text/plain": [
       "(1825, 14)"
      ]
     },
     "execution_count": 10,
     "metadata": {},
     "output_type": "execute_result"
    }
   ],
   "source": [
    "df.shape"
   ]
  },
  {
   "cell_type": "code",
   "execution_count": 27,
   "id": "46035231-3662-461d-bb8c-876a8fcb3d82",
   "metadata": {},
   "outputs": [
    {
     "data": {
      "text/plain": [
       "Gender             0\n",
       "Age                0\n",
       "History            0\n",
       "Patient            0\n",
       "TakeMedication     0\n",
       "Severity           0\n",
       "BreathShortness    0\n",
       "VisualChanges      0\n",
       "NoseBleeding       0\n",
       "Whendiagnoused     0\n",
       "Systolic           0\n",
       "Diastolic          0\n",
       "ControlledDiet     0\n",
       "Stages             0\n",
       "dtype: int64"
      ]
     },
     "execution_count": 27,
     "metadata": {},
     "output_type": "execute_result"
    }
   ],
   "source": [
    "df.isnull().sum()"
   ]
  },
  {
   "cell_type": "code",
   "execution_count": 28,
   "id": "75c35145-bb09-4925-8b92-f1cf264fb7d2",
   "metadata": {},
   "outputs": [
    {
     "data": {
      "text/plain": [
       "array(['HYPERTENSION (Stage-1)', 'HYPERTENSION (Stage-2)',\n",
       "       'HYPERTENSIVE CRISIS', 'HYPERTENSION (Stage-2).',\n",
       "       'HYPERTENSIVE CRISI', 'NORMAL'], dtype=object)"
      ]
     },
     "execution_count": 28,
     "metadata": {},
     "output_type": "execute_result"
    }
   ],
   "source": [
    "df['Stages'].unique()\n"
   ]
  },
  {
   "cell_type": "code",
   "execution_count": null,
   "id": "ecfe31d7-d0ed-4500-ae34-c94677f3f856",
   "metadata": {},
   "outputs": [],
   "source": [
    "df['Stages'].replace({\n",
    "    'HYPERTENSIVE CRISI': 'HYPERTENSIVE CRISIS',\n",
    "    'HYPERTENSION (Stage-2).': 'HYPERTENSION (Stage-2)'\n",
    "}, inplace=True)\n"
   ]
  },
  {
   "cell_type": "code",
   "execution_count": 12,
   "id": "4c2756ce-8017-487b-b99a-3747d53c444c",
   "metadata": {},
   "outputs": [],
   "source": [
    "df['Stages'] = df['Stages'].replace({\n",
    "    'HYPERTENSIVE CRISI': 'HYPERTENSIVE CRISIS',\n",
    "    'HYPERTENSION (Stage-2).': 'HYPERTENSION (Stage-2)'\n",
    "})\n"
   ]
  },
  {
   "cell_type": "code",
   "execution_count": 13,
   "id": "9d13e1c3-2831-4676-859c-c0a8ffcbf2f8",
   "metadata": {},
   "outputs": [
    {
     "data": {
      "text/plain": [
       "array(['HYPERTENSION (Stage-1)', 'HYPERTENSION (Stage-2)',\n",
       "       'HYPERTENSIVE CRISIS', 'NORMAL'], dtype=object)"
      ]
     },
     "execution_count": 13,
     "metadata": {},
     "output_type": "execute_result"
    }
   ],
   "source": [
    "df['Stages'].unique()\n"
   ]
  },
  {
   "cell_type": "code",
   "execution_count": 14,
   "id": "d60c68d9-b1a3-4096-b5d6-ab4d899170f7",
   "metadata": {},
   "outputs": [],
   "source": [
    "from sklearn.preprocessing import LabelEncoder\n",
    "\n",
    "le = LabelEncoder()\n",
    "df['Stages'] = le.fit_transform(df['Stages'])\n"
   ]
  },
  {
   "cell_type": "code",
   "execution_count": 15,
   "id": "c8060ec2-54fc-4bce-bdb6-225c241f98f0",
   "metadata": {},
   "outputs": [
    {
     "data": {
      "text/plain": [
       "array([0, 1, 2, 3])"
      ]
     },
     "execution_count": 15,
     "metadata": {},
     "output_type": "execute_result"
    }
   ],
   "source": [
    "df['Stages'].unique()\n"
   ]
  },
  {
   "cell_type": "code",
   "execution_count": 16,
   "id": "d499e8b6-7419-489f-bc60-35b72fb4ebd6",
   "metadata": {},
   "outputs": [],
   "source": [
    "from sklearn.preprocessing import LabelEncoder\n",
    "le = LabelEncoder()\n",
    "df['Stages'] = le.fit_transform(df['Stages'])\n"
   ]
  },
  {
   "cell_type": "code",
   "execution_count": 17,
   "id": "384a2399-f6f7-4d88-a9d8-320571034450",
   "metadata": {},
   "outputs": [
    {
     "data": {
      "text/plain": [
       "array([0, 1, 2, 3])"
      ]
     },
     "execution_count": 17,
     "metadata": {},
     "output_type": "execute_result"
    }
   ],
   "source": [
    "df['Stages'].unique()\n"
   ]
  },
  {
   "cell_type": "code",
   "execution_count": 18,
   "id": "a509ebca-6469-485d-9c1a-54b5d7835a58",
   "metadata": {},
   "outputs": [
    {
     "data": {
      "text/html": [
       "<div>\n",
       "<style scoped>\n",
       "    .dataframe tbody tr th:only-of-type {\n",
       "        vertical-align: middle;\n",
       "    }\n",
       "\n",
       "    .dataframe tbody tr th {\n",
       "        vertical-align: top;\n",
       "    }\n",
       "\n",
       "    .dataframe thead th {\n",
       "        text-align: right;\n",
       "    }\n",
       "</style>\n",
       "<table border=\"1\" class=\"dataframe\">\n",
       "  <thead>\n",
       "    <tr style=\"text-align: right;\">\n",
       "      <th></th>\n",
       "      <th>Stages</th>\n",
       "    </tr>\n",
       "  </thead>\n",
       "  <tbody>\n",
       "    <tr>\n",
       "      <th>count</th>\n",
       "      <td>1825.000000</td>\n",
       "    </tr>\n",
       "    <tr>\n",
       "      <th>mean</th>\n",
       "      <td>1.145205</td>\n",
       "    </tr>\n",
       "    <tr>\n",
       "      <th>std</th>\n",
       "      <td>1.096876</td>\n",
       "    </tr>\n",
       "    <tr>\n",
       "      <th>min</th>\n",
       "      <td>0.000000</td>\n",
       "    </tr>\n",
       "    <tr>\n",
       "      <th>25%</th>\n",
       "      <td>0.000000</td>\n",
       "    </tr>\n",
       "    <tr>\n",
       "      <th>50%</th>\n",
       "      <td>1.000000</td>\n",
       "    </tr>\n",
       "    <tr>\n",
       "      <th>75%</th>\n",
       "      <td>2.000000</td>\n",
       "    </tr>\n",
       "    <tr>\n",
       "      <th>max</th>\n",
       "      <td>3.000000</td>\n",
       "    </tr>\n",
       "  </tbody>\n",
       "</table>\n",
       "</div>"
      ],
      "text/plain": [
       "            Stages\n",
       "count  1825.000000\n",
       "mean      1.145205\n",
       "std       1.096876\n",
       "min       0.000000\n",
       "25%       0.000000\n",
       "50%       1.000000\n",
       "75%       2.000000\n",
       "max       3.000000"
      ]
     },
     "execution_count": 18,
     "metadata": {},
     "output_type": "execute_result"
    }
   ],
   "source": [
    "df.describe()"
   ]
  },
  {
   "cell_type": "code",
   "execution_count": 37,
   "id": "38f12bd1-0207-4d33-a17b-258093394bac",
   "metadata": {},
   "outputs": [
    {
     "data": {
      "image/png": "[encoded data removed]",
      "text/plain": [
       "<Figure size 640x480 with 1 Axes>"
      ]
     },
     "metadata": {},
     "output_type": "display_data"
    }
   ],
   "source": [
    "gender_counts = df['Gender'].value_counts()\n",
    "\n",
    "#plotting the pie chart \n",
    "plt.pie(gender_counts, labels=gender_counts.index, autopct='%1.0f%%', startangle=140)\n",
    "plt.title('Gender Distribution')\n",
    "plt.axis('equal')\n",
    "plt.show()"
   ]
  },
  {
   "cell_type": "code",
   "execution_count": 38,
   "id": "ff536057-bd9d-4bc1-bb1a-21afaf070d49",
   "metadata": {},
   "outputs": [
    {
     "data": {
      "image/png": "[encoded data removed]",
      "text/plain": [
       "<Figure size 640x480 with 1 Axes>"
      ]
     },
     "metadata": {},
     "output_type": "display_data"
    },
    {
     "data": {
      "image/png": "[encoded data removed]",
      "text/plain": [
       "<Figure size 600x600 with 1 Axes>"
      ]
     },
     "metadata": {},
     "output_type": "display_data"
    }
   ],
   "source": [
    "frequency = df['Stages'].value_counts()\n",
    "\n",
    "frequency.plot(kind='bar')\n",
    "plt.figure(figsize=(6,6))\n",
    "plt.xlabel('Stages')\n",
    "plt.ylabel('Frequency')\n",
    "plt.title('Count of Stages')\n",
    "plt.show()"
   ]
  },
  {
   "cell_type": "code",
   "execution_count": 39,
   "id": "51a51359-138d-4b80-b14b-ad8a210bc7e9",
   "metadata": {},
   "outputs": [
    {
     "data": {
      "image/png": "[encoded data removed]",
      "text/plain": [
       "<Figure size 640x480 with 1 Axes>"
      ]
     },
     "metadata": {},
     "output_type": "display_data"
    }
   ],
   "source": [
    "sns.countplot(x='TakeMedication', hue='Severity', data=df)\n",
    "plt.title('Count plot of TakeMedication by Severity')\n",
    "plt.show()"
   ]
  },
  {
   "cell_type": "code",
   "execution_count": null,
   "id": "0e437e88-94dc-420f-9fc5-a08b7a68c817",
   "metadata": {},
   "outputs": [],
   "source": [
    "sns.pairplot(df[['Age', 'Systolic', 'Diastolic']])\n",
    "plt.show()"
   ]
  },
  {
   "cell_type": "code",
   "execution_count": 41,
   "id": "96fdf928-3a38-4733-8f34-a8cd08839d4e",
   "metadata": {},
   "outputs": [
    {
     "data": {
      "text/html": [
       "<div>\n",
       "<style scoped>\n",
       "    .dataframe tbody tr th:only-of-type {\n",
       "        vertical-align: middle;\n",
       "    }\n",
       "\n",
       "    .dataframe tbody tr th {\n",
       "        vertical-align: top;\n",
       "    }\n",
       "\n",
       "    .dataframe thead th {\n",
       "        text-align: right;\n",
       "    }\n",
       "</style>\n",
       "<table border=\"1\" class=\"dataframe\">\n",
       "  <thead>\n",
       "    <tr style=\"text-align: right;\">\n",
       "      <th></th>\n",
       "      <th>Gender</th>\n",
       "      <th>Age</th>\n",
       "      <th>History</th>\n",
       "      <th>Patient</th>\n",
       "      <th>TakeMedication</th>\n",
       "      <th>Severity</th>\n",
       "      <th>BreathShortness</th>\n",
       "      <th>VisualChanges</th>\n",
       "      <th>NoseBleeding</th>\n",
       "      <th>Whendiagnoused</th>\n",
       "      <th>Systolic</th>\n",
       "      <th>Diastolic</th>\n",
       "      <th>ControlledDiet</th>\n",
       "    </tr>\n",
       "  </thead>\n",
       "  <tbody>\n",
       "    <tr>\n",
       "      <th>0</th>\n",
       "      <td>Male</td>\n",
       "      <td>18-34</td>\n",
       "      <td>Yes</td>\n",
       "      <td>No</td>\n",
       "      <td>No</td>\n",
       "      <td>Mild</td>\n",
       "      <td>No</td>\n",
       "      <td>No</td>\n",
       "      <td>No</td>\n",
       "      <td>&lt;1 Year</td>\n",
       "      <td>111 - 120</td>\n",
       "      <td>81 - 90</td>\n",
       "      <td>No</td>\n",
       "    </tr>\n",
       "    <tr>\n",
       "      <th>1</th>\n",
       "      <td>Female</td>\n",
       "      <td>18-34</td>\n",
       "      <td>Yes</td>\n",
       "      <td>No</td>\n",
       "      <td>No</td>\n",
       "      <td>Mild</td>\n",
       "      <td>No</td>\n",
       "      <td>No</td>\n",
       "      <td>No</td>\n",
       "      <td>&lt;1 Year</td>\n",
       "      <td>111 - 120</td>\n",
       "      <td>81 - 90</td>\n",
       "      <td>No</td>\n",
       "    </tr>\n",
       "    <tr>\n",
       "      <th>2</th>\n",
       "      <td>Male</td>\n",
       "      <td>35-50</td>\n",
       "      <td>Yes</td>\n",
       "      <td>No</td>\n",
       "      <td>No</td>\n",
       "      <td>Mild</td>\n",
       "      <td>No</td>\n",
       "      <td>No</td>\n",
       "      <td>No</td>\n",
       "      <td>&lt;1 Year</td>\n",
       "      <td>111 - 120</td>\n",
       "      <td>81 - 90</td>\n",
       "      <td>No</td>\n",
       "    </tr>\n",
       "    <tr>\n",
       "      <th>3</th>\n",
       "      <td>Female</td>\n",
       "      <td>35-50</td>\n",
       "      <td>Yes</td>\n",
       "      <td>No</td>\n",
       "      <td>No</td>\n",
       "      <td>Mild</td>\n",
       "      <td>No</td>\n",
       "      <td>No</td>\n",
       "      <td>No</td>\n",
       "      <td>&lt;1 Year</td>\n",
       "      <td>111 - 120</td>\n",
       "      <td>81 - 90</td>\n",
       "      <td>No</td>\n",
       "    </tr>\n",
       "    <tr>\n",
       "      <th>4</th>\n",
       "      <td>Male</td>\n",
       "      <td>51-64</td>\n",
       "      <td>Yes</td>\n",
       "      <td>No</td>\n",
       "      <td>No</td>\n",
       "      <td>Mild</td>\n",
       "      <td>No</td>\n",
       "      <td>No</td>\n",
       "      <td>No</td>\n",
       "      <td>&lt;1 Year</td>\n",
       "      <td>111 - 120</td>\n",
       "      <td>81 - 90</td>\n",
       "      <td>No</td>\n",
       "    </tr>\n",
       "    <tr>\n",
       "      <th>...</th>\n",
       "      <td>...</td>\n",
       "      <td>...</td>\n",
       "      <td>...</td>\n",
       "      <td>...</td>\n",
       "      <td>...</td>\n",
       "      <td>...</td>\n",
       "      <td>...</td>\n",
       "      <td>...</td>\n",
       "      <td>...</td>\n",
       "      <td>...</td>\n",
       "      <td>...</td>\n",
       "      <td>...</td>\n",
       "      <td>...</td>\n",
       "    </tr>\n",
       "    <tr>\n",
       "      <th>1820</th>\n",
       "      <td>Female</td>\n",
       "      <td>35-50</td>\n",
       "      <td>Yes</td>\n",
       "      <td>No</td>\n",
       "      <td>No</td>\n",
       "      <td>Sever</td>\n",
       "      <td>No</td>\n",
       "      <td>No</td>\n",
       "      <td>No</td>\n",
       "      <td>&gt;5 Years</td>\n",
       "      <td>111 - 120</td>\n",
       "      <td>70 - 80</td>\n",
       "      <td>No</td>\n",
       "    </tr>\n",
       "    <tr>\n",
       "      <th>1821</th>\n",
       "      <td>Male</td>\n",
       "      <td>51-64</td>\n",
       "      <td>Yes</td>\n",
       "      <td>No</td>\n",
       "      <td>No</td>\n",
       "      <td>Sever</td>\n",
       "      <td>No</td>\n",
       "      <td>No</td>\n",
       "      <td>No</td>\n",
       "      <td>&gt;5 Years</td>\n",
       "      <td>111 - 120</td>\n",
       "      <td>70 - 80</td>\n",
       "      <td>No</td>\n",
       "    </tr>\n",
       "    <tr>\n",
       "      <th>1822</th>\n",
       "      <td>Female</td>\n",
       "      <td>51-64</td>\n",
       "      <td>Yes</td>\n",
       "      <td>No</td>\n",
       "      <td>No</td>\n",
       "      <td>Sever</td>\n",
       "      <td>No</td>\n",
       "      <td>No</td>\n",
       "      <td>No</td>\n",
       "      <td>&gt;5 Years</td>\n",
       "      <td>111 - 120</td>\n",
       "      <td>70 - 80</td>\n",
       "      <td>No</td>\n",
       "    </tr>\n",
       "    <tr>\n",
       "      <th>1823</th>\n",
       "      <td>Male</td>\n",
       "      <td>65+</td>\n",
       "      <td>Yes</td>\n",
       "      <td>No</td>\n",
       "      <td>No</td>\n",
       "      <td>Sever</td>\n",
       "      <td>No</td>\n",
       "      <td>No</td>\n",
       "      <td>No</td>\n",
       "      <td>&gt;5 Years</td>\n",
       "      <td>111 - 120</td>\n",
       "      <td>70 - 80</td>\n",
       "      <td>No</td>\n",
       "    </tr>\n",
       "    <tr>\n",
       "      <th>1824</th>\n",
       "      <td>Female</td>\n",
       "      <td>65+</td>\n",
       "      <td>Yes</td>\n",
       "      <td>No</td>\n",
       "      <td>No</td>\n",
       "      <td>Sever</td>\n",
       "      <td>No</td>\n",
       "      <td>No</td>\n",
       "      <td>No</td>\n",
       "      <td>&gt;5 Years</td>\n",
       "      <td>111 - 120</td>\n",
       "      <td>70 - 80</td>\n",
       "      <td>No</td>\n",
       "    </tr>\n",
       "  </tbody>\n",
       "</table>\n",
       "<p>1825 rows × 13 columns</p>\n",
       "</div>"
      ],
      "text/plain": [
       "      Gender    Age History Patient TakeMedication Severity BreathShortness  \\\n",
       "0       Male  18-34     Yes      No             No     Mild              No   \n",
       "1     Female  18-34     Yes      No             No     Mild              No   \n",
       "2       Male  35-50     Yes      No             No     Mild              No   \n",
       "3     Female  35-50     Yes      No             No     Mild              No   \n",
       "4       Male  51-64     Yes      No             No     Mild              No   \n",
       "...      ...    ...     ...     ...            ...      ...             ...   \n",
       "1820  Female  35-50     Yes      No             No    Sever              No   \n",
       "1821    Male  51-64     Yes      No             No    Sever              No   \n",
       "1822  Female  51-64     Yes      No             No    Sever              No   \n",
       "1823    Male    65+     Yes      No             No    Sever              No   \n",
       "1824  Female    65+     Yes      No             No    Sever              No   \n",
       "\n",
       "     VisualChanges NoseBleeding Whendiagnoused   Systolic Diastolic  \\\n",
       "0               No          No         <1 Year  111 - 120   81 - 90   \n",
       "1               No          No         <1 Year  111 - 120   81 - 90   \n",
       "2               No          No         <1 Year  111 - 120   81 - 90   \n",
       "3               No          No         <1 Year  111 - 120   81 - 90   \n",
       "4               No          No         <1 Year  111 - 120   81 - 90   \n",
       "...            ...          ...            ...        ...       ...   \n",
       "1820            No          No        >5 Years  111 - 120   70 - 80   \n",
       "1821            No          No        >5 Years  111 - 120   70 - 80   \n",
       "1822            No          No        >5 Years  111 - 120   70 - 80   \n",
       "1823            No          No        >5 Years  111 - 120   70 - 80   \n",
       "1824            No          No        >5 Years  111 - 120   70 - 80   \n",
       "\n",
       "     ControlledDiet  \n",
       "0                No  \n",
       "1                No  \n",
       "2                No  \n",
       "3                No  \n",
       "4                No  \n",
       "...             ...  \n",
       "1820             No  \n",
       "1821             No  \n",
       "1822             No  \n",
       "1823             No  \n",
       "1824             No  \n",
       "\n",
       "[1825 rows x 13 columns]"
      ]
     },
     "execution_count": 41,
     "metadata": {},
     "output_type": "execute_result"
    }
   ],
   "source": [
    "#splitting the data into X and Y\n",
    "x=df.drop('Stages' , axis = 1)\n",
    "x"
   ]
  },
  {
   "cell_type": "code",
   "execution_count": 42,
   "id": "3954462c-963d-4e08-8487-6cf4517c95b1",
   "metadata": {},
   "outputs": [
    {
     "data": {
      "text/plain": [
       "0       0\n",
       "1       0\n",
       "2       0\n",
       "3       0\n",
       "4       0\n",
       "       ..\n",
       "1820    3\n",
       "1821    3\n",
       "1822    3\n",
       "1823    3\n",
       "1824    3\n",
       "Name: Stages, Length: 1825, dtype: int64"
      ]
     },
     "execution_count": 42,
     "metadata": {},
     "output_type": "execute_result"
    }
   ],
   "source": [
    "y = df['Stages']\n",
    "y"
   ]
  },
  {
   "cell_type": "code",
   "execution_count": 19,
   "id": "80aa1a20-9374-4ce1-99c6-ad7a61bad4db",
   "metadata": {},
   "outputs": [],
   "source": [
    "# X = all columns except 'Stages'\n",
    "X = df.drop('Stages', axis=1)\n",
    "\n",
    "# Y = only the target column\n",
    "Y = df['Stages']\n"
   ]
  },
  {
   "cell_type": "code",
   "execution_count": 56,
   "id": "eb27ee53-6a9f-4ae4-8f99-57efccc1d63b",
   "metadata": {},
   "outputs": [],
   "source": [
    "from sklearn.preprocessing import LabelEncoder\n",
    "\n",
    "# make a copy to be safe\n",
    "df_encoded = df.copy()\n",
    "\n",
    "# find all object (string) columns\n",
    "cat_cols = df_encoded.select_dtypes(include=['object']).columns\n",
    "\n",
    "# apply label encoding\n",
    "le = LabelEncoder()\n",
    "for col in cat_cols:\n",
    "    df_encoded[col] = le.fit_transform(df_encoded[col].astype(str))\n"
   ]
  },
  {
   "cell_type": "code",
   "execution_count": 57,
   "id": "1b1e6259-5eaa-41fd-baae-6c75af9ac9ad",
   "metadata": {},
   "outputs": [],
   "source": [
    "X = df_encoded.drop('Stages', axis=1)\n",
    "Y = df_encoded['Stages']\n"
   ]
  },
  {
   "cell_type": "code",
   "execution_count": 58,
   "id": "be43921b-7e86-4548-beb2-565272c0d6db",
   "metadata": {},
   "outputs": [],
   "source": [
    "from sklearn.model_selection import train_test_split\n",
    "\n",
    "x_train, x_test, y_train, y_test = train_test_split(\n",
    "    X, Y, test_size=0.2, random_state=42\n",
    ")\n"
   ]
  },
  {
   "cell_type": "code",
   "execution_count": 59,
   "id": "067e3af3-dbe9-41b5-a87e-2a3391b7162e",
   "metadata": {},
   "outputs": [
    {
     "name": "stdout",
     "output_type": "stream",
     "text": [
      "Accuracy: 0.9863013698630136\n",
      "\n",
      "Classification Report:\n",
      "               precision    recall  f1-score   support\n",
      "\n",
      "           0       1.00      0.96      0.98       139\n",
      "           1       1.00      1.00      1.00       120\n",
      "           2       1.00      1.00      1.00        46\n",
      "           3       0.92      1.00      0.96        60\n",
      "\n",
      "    accuracy                           0.99       365\n",
      "   macro avg       0.98      0.99      0.99       365\n",
      "weighted avg       0.99      0.99      0.99       365\n",
      "\n"
     ]
    }
   ],
   "source": [
    "from sklearn.linear_model import LogisticRegression\n",
    "from sklearn.metrics import accuracy_score, classification_report\n",
    "\n",
    "log_reg = LogisticRegression(max_iter=1000)\n",
    "log_reg.fit(x_train, y_train)\n",
    "\n",
    "y_pred = log_reg.predict(x_test)\n",
    "\n",
    "print(\"Accuracy:\", accuracy_score(y_test, y_pred))\n",
    "print(\"\\nClassification Report:\\n\", classification_report(y_test, y_pred))\n"
   ]
  },
  {
   "cell_type": "code",
   "execution_count": 69,
   "id": "792a8f6a-38c2-4df6-a0e6-cf9729cae7b0",
   "metadata": {},
   "outputs": [
    {
     "name": "stdout",
     "output_type": "stream",
     "text": [
      "Accuracy Score:  1.0\n",
      "\n",
      "Classification Report:\n",
      "               precision    recall  f1-score   support\n",
      "\n",
      "           0       1.00      1.00      1.00       139\n",
      "           1       1.00      1.00      1.00       120\n",
      "           2       1.00      1.00      1.00        46\n",
      "           3       1.00      1.00      1.00        60\n",
      "\n",
      "    accuracy                           1.00       365\n",
      "   macro avg       1.00      1.00      1.00       365\n",
      "weighted avg       1.00      1.00      1.00       365\n",
      "\n"
     ]
    }
   ],
   "source": [
    "from sklearn.ensemble import RandomForestClassifier\n",
    "from sklearn.metrics import accuracy_score, classification_report\n",
    "\n",
    "# initialize model\n",
    "random_forest_model = RandomForestClassifier(n_estimators=100, random_state=42)\n",
    "\n",
    "# train\n",
    "random_forest_model.fit(x_train, y_train)\n",
    "\n",
    "# predict\n",
    "y_pred = random_forest_model.predict(x_test)\n",
    "\n",
    "# evaluate\n",
    "acc_rf = accuracy_score(y_test, y_pred)\n",
    "c_rf = classification_report(y_test, y_pred)\n",
    "\n",
    "print(\"Accuracy Score: \", acc_rf)\n",
    "print(\"\\nClassification Report:\\n\", c_rf)\n"
   ]
  },
  {
   "cell_type": "code",
   "execution_count": 61,
   "id": "3b5c03a3-2597-4a1e-8f07-7f93dd223c15",
   "metadata": {},
   "outputs": [
    {
     "name": "stdout",
     "output_type": "stream",
     "text": [
      "Accuracy Score:  0.8438356164383561\n",
      "\n",
      "Classification Report:\n",
      "               precision    recall  f1-score   support\n",
      "\n",
      "           0       0.85      0.87      0.86       139\n",
      "           1       0.88      0.96      0.92       120\n",
      "           2       0.87      0.72      0.79        46\n",
      "           3       0.71      0.65      0.68        60\n",
      "\n",
      "    accuracy                           0.84       365\n",
      "   macro avg       0.83      0.80      0.81       365\n",
      "weighted avg       0.84      0.84      0.84       365\n",
      "\n"
     ]
    }
   ],
   "source": [
    "from sklearn.naive_bayes import MultinomialNB\n",
    "from sklearn.metrics import accuracy_score, classification_report\n",
    "\n",
    "# initialize model\n",
    "mNB = MultinomialNB()\n",
    "\n",
    "# train\n",
    "mNB.fit(x_train, y_train)\n",
    "\n",
    "# predict\n",
    "y_pred = mNB.predict(x_test)\n",
    "\n",
    "# evaluate\n",
    "acc_mnb = accuracy_score(y_test, y_pred)\n",
    "c_mnb = classification_report(y_test, y_pred)\n",
    "\n",
    "print(\"Accuracy Score: \", acc_mnb)\n",
    "print(\"\\nClassification Report:\\n\", c_mnb)\n"
   ]
  },
  {
   "cell_type": "code",
   "execution_count": 62,
   "id": "28a838c6-3e0a-4a16-b11b-da3dac58a7bc",
   "metadata": {},
   "outputs": [
    {
     "name": "stdout",
     "output_type": "stream",
     "text": [
      "Accuracy Score:  1.0\n",
      "\n",
      "Classification Report:\n",
      "               precision    recall  f1-score   support\n",
      "\n",
      "           0       1.00      1.00      1.00       139\n",
      "           1       1.00      1.00      1.00       120\n",
      "           2       1.00      1.00      1.00        46\n",
      "           3       1.00      1.00      1.00        60\n",
      "\n",
      "    accuracy                           1.00       365\n",
      "   macro avg       1.00      1.00      1.00       365\n",
      "weighted avg       1.00      1.00      1.00       365\n",
      "\n"
     ]
    }
   ],
   "source": [
    "from sklearn.naive_bayes import GaussianNB\n",
    "from sklearn.metrics import accuracy_score, classification_report\n",
    "\n",
    "# initialize model\n",
    "gnb = GaussianNB()\n",
    "\n",
    "# train\n",
    "gnb.fit(x_train, y_train)\n",
    "\n",
    "# predict\n",
    "y_pred = gnb.predict(x_test)\n",
    "\n",
    "# evaluate\n",
    "acc_gnb = accuracy_score(y_test, y_pred)\n",
    "c_gnb = classification_report(y_test, y_pred)\n",
    "\n",
    "print(\"Accuracy Score: \", acc_gnb)\n",
    "print(\"\\nClassification Report:\\n\", c_gnb)\n"
   ]
  },
  {
   "cell_type": "code",
   "execution_count": 63,
   "id": "e0f7b03f-9dec-49ae-8be2-ce6ef1dc40c1",
   "metadata": {},
   "outputs": [
    {
     "name": "stdout",
     "output_type": "stream",
     "text": [
      "Accuracy Score:  0.8438356164383561\n",
      "\n",
      "Classification Report:\n",
      "               precision    recall  f1-score   support\n",
      "\n",
      "           0       0.85      0.87      0.86       139\n",
      "           1       0.88      0.96      0.92       120\n",
      "           2       0.87      0.72      0.79        46\n",
      "           3       0.71      0.65      0.68        60\n",
      "\n",
      "    accuracy                           0.84       365\n",
      "   macro avg       0.83      0.80      0.81       365\n",
      "weighted avg       0.84      0.84      0.84       365\n",
      "\n"
     ]
    }
   ],
   "source": [
    "from sklearn.naive_bayes import MultinomialNB\n",
    "from sklearn.metrics import accuracy_score, classification_report\n",
    "\n",
    "# initialize model\n",
    "mnb = MultinomialNB()\n",
    "\n",
    "# train\n",
    "mnb.fit(x_train, y_train)\n",
    "\n",
    "# predict\n",
    "y_pred = mnb.predict(x_test)\n",
    "\n",
    "# evaluate\n",
    "acc_mnb = accuracy_score(y_test, y_pred)\n",
    "c_mnb = classification_report(y_test, y_pred)\n",
    "\n",
    "print(\"Accuracy Score: \", acc_mnb)\n",
    "print(\"\\nClassification Report:\\n\", c_mnb)\n"
   ]
  },
  {
   "cell_type": "code",
   "execution_count": null,
   "id": "4c881c05-7187-4b9a-8da4-6a47426cf8bc",
   "metadata": {},
   "outputs": [],
   "source": [
    "from sklearn.metrics import accuracy_score\n",
    "from sklearn.linear_model import LogisticRegression\n",
    "from sklearn.tree import DecisionTreeClassifier\n",
    "from sklearn.ensemble import RandomForestClassifier\n",
    "from sklearn.naive_bayes import GaussianNB, MultinomialNB\n",
    "\n",
    "# 1. Logistic Regression\n",
    "log_reg = LogisticRegression(max_iter=1000)\n",
    "log_reg.fit(x_train, y_train)\n",
    "y_pred_lr = log_reg.predict(x_test)\n",
    "acc_lr = accuracy_score(y_test, y_pred_lr)\n",
    "\n",
    "# 2. Decision Tree\n",
    "dt = DecisionTreeClassifier()\n",
    "dt.fit(x_train, y_train)\n",
    "y_pred_dt = dt.predict(x_test)\n",
    "acc_dt = accuracy_score(y_test, y_pred_dt)\n",
    "\n",
    "# 3. Random Forest\n",
    "rf = RandomForestClassifier()\n",
    "rf.fit(x_train, y_train)\n",
    "y_pred_rf = rf.predict(x_test)\n",
    "acc_rf = accuracy_score(y_test, y_pred_rf)\n",
    "\n",
    "# 4. Gaussian Naive Bayes\n",
    "gnb = GaussianNB()\n",
    "gnb.fit(x_train, y_train)\n",
    "y_pred_nb = gnb.predict(x_test)\n",
    "acc_nb = accuracy_score(y_test, y_pred_nb)\n",
    "\n",
    "# 5. Multinomial Naive Bayes\n",
    "mnb = MultinomialNB()\n",
    "mnb.fit(x_train, y_train)\n",
    "y_pred_mnb = mnb.predict(x_test)\n",
    "acc_mnb = accuracy_score(y_test, y_pred_mnb)\n",
    "\n",
    "print(\"✅ Models trained and accuracies calculated\")\n"
   ]
  },
  {
   "cell_type": "code",
   "execution_count": null,
   "id": "101d4b10-0b66-45a1-bcaa-22e0f72e7a6a",
   "metadata": {},
   "outputs": [],
   "source": [
    "import pandas as pd\n",
    "\n",
    "model = pd.DataFrame({\n",
    "    'Model': ['Logistic Regression','Decision Tree Classifier',\n",
    "              'RandomForest Classifier','Gaussian Naive Bayes',\n",
    "              'Multinomial Naive Bayes'],\n",
    "    'Score': [acc_lr, acc_dt, acc_rf, acc_nb, acc_mnb],\n",
    "})\n",
    "\n",
    "print(model)\n"
   ]
  },
  {
   "cell_type": "code",
   "execution_count": null,
   "id": "fa921fee-efc6-4b39-a4ba-c2ba5c54fad0",
   "metadata": {},
   "outputs": [],
   "source": [
    "import pickle\n",
    "import warnings\n",
    "\n",
    "# Save trained random forest model\n",
    "pickle.dump(rf, open(\"model.pkl\", \"wb\"))\n"
   ]
  },
  {
   "cell_type": "code",
   "execution_count": 75,
   "id": "ac1150d6-1a5b-4d07-982b-69f82f385ce3",
   "metadata": {},
   "outputs": [],
   "source": [
    "loaded_model = pickle.load(open(\"model.pkl\", \"rb\"))\n"
   ]
  },
  {
   "cell_type": "code",
   "execution_count": null,
   "id": "3b05bf42-3488-457a-bfd1-79276ae8c741",
   "metadata": {},
   "outputs": [],
   "source": [
    "import pickle\n",
    "\n",
    "# trained model object is called \"model\"\n",
    "pickle.dump(model, open(\"model.pkl\", \"wb\"))\n",
    "\n",
    "print(\"✅ Model saved as model.pkl\")\n"
   ]
  }
 ],
 "metadata": {
  "kernelspec": {
   "display_name": "Python [conda env:base] *",
   "language": "python",
   "name": "conda-base-py"
  },
  "language_info": {
   "codemirror_mode": {
    "name": "ipython",
    "version": 3
   },
   "file_extension": ".py",
   "mimetype": "text/x-python",
   "name": "python",
   "nbconvert_exporter": "python",
   "pygments_lexer": "ipython3",
   "version": "3.13.5"
  }
 },
 "nbformat": 4,
 "nbformat_minor": 5
}
